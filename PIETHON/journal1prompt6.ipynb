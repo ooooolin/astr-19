{
 "cells": [
  {
   "cell_type": "code",
   "execution_count": null,
   "id": "ecd50435-dbf7-4637-a97b-70cb4b5a5cf2",
   "metadata": {},
   "outputs": [],
   "source": [
    "import numpy as np"
   ]
  },
  {
   "cell_type": "code",
   "execution_count": null,
   "id": "c7b88249-c1e6-49a2-b819-07110e4de9a5",
   "metadata": {},
   "outputs": [],
   "source": [
    "x_values = np.linspace(0, 2 * np.pi, 1000)\n",
    "sin_values = np.sin(x_values)\n",
    "cos_values = np.cos(x_values)\n"
   ]
  },
  {
   "cell_type": "markdown",
   "id": "ef8e05c7-15f8-46ff-ae68-b363399eb4f7",
   "metadata": {},
   "source": [
    "Creating an array and using numpy to attain the values of sin and cos.  "
   ]
  },
  {
   "cell_type": "code",
   "execution_count": null,
   "id": "3c047c8b-75ac-4d43-9357-cf9661bf975e",
   "metadata": {},
   "outputs": [],
   "source": [
    "print(\"x   | sin(x)  | cos(x)\")\n",
    "print(\"------------------------\")\n",
    "for i in range(10):\n",
    "    x = x_values[i]\n",
    "    sin_value = sin_values[i]\n",
    "    cos_value = cos_values[i]\n",
    "    print(f\"{x:.4f}\\t| {sin_value:.4f} | {cos_value:.4f}\")"
   ]
  },
  {
   "cell_type": "markdown",
   "id": "379a117a-4b47-4883-9d8e-4105276957e2",
   "metadata": {},
   "source": [
    "Looping ten times in x sin and cos. Aswell printing the values. "
   ]
  }
 ],
 "metadata": {
  "kernelspec": {
   "display_name": "Python 3 (ipykernel)",
   "language": "python",
   "name": "python3"
  },
  "language_info": {
   "codemirror_mode": {
    "name": "ipython",
    "version": 3
   },
   "file_extension": ".py",
   "mimetype": "text/x-python",
   "name": "python",
   "nbconvert_exporter": "python",
   "pygments_lexer": "ipython3",
   "version": "3.11.5"
  }
 },
 "nbformat": 4,
 "nbformat_minor": 5
}
